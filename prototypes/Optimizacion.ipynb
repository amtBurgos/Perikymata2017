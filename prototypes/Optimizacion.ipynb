{
 "cells": [
  {
   "cell_type": "code",
   "execution_count": 8,
   "metadata": {
    "collapsed": true
   },
   "outputs": [],
   "source": [
    "#Imports\n",
    "from skimage import io\n",
    "from skimage.color import rgb2grey\n",
    "from skimage import exposure\n",
    "from skimage.restoration import denoise_tv_chambolle\n",
    "from _frangi import frangi, hessian\n",
    "from skimage.filters import threshold_li\n",
    "from skimage import morphology\n",
    "from skimage.morphology import skeletonize\n",
    "import warnings as war\n",
    "%matplotlib notebook\n",
    "import matplotlib.pyplot as plt\n",
    "import numpy as np\n",
    "from os import walk\n",
    "from os import path\n",
    "import csv\n",
    "\n",
    "#Importar imágenes\n",
    "def csvReader(csvPath):\n",
    "    rows = []\n",
    "    with open(csvPath, newline='') as csvfile:\n",
    "        perfiles = csv.reader(csvfile, delimiter=',', quoting=csv.QUOTE_NONNUMERIC)\n",
    "        for row in perfiles:\n",
    "            rows.append(row)\n",
    "    return rows  "
   ]
  },
  {
   "cell_type": "code",
   "execution_count": null,
   "metadata": {
    "collapsed": true
   },
   "outputs": [],
   "source": [
    "# Importar imágenes\n",
    "fullImage = 'Optimize\\\\Full_Image.png'\n",
    "fullMask = 'Optimize\\\\Full_Mask.png'\n",
    "fullCsv = csvReader('Optimize\\\\Full_Csv.csv')"
   ]
  },
  {
   "cell_type": "code",
   "execution_count": 7,
   "metadata": {
    "collapsed": true
   },
   "outputs": [],
   "source": [
    "# Funcion sobre la que modificar parametros\n",
    "def processImage(img, clipLimit, nb, w, removeSamll, conn):\n",
    "    \"\"\"\n",
    "    Apply some filters to the given image.\n",
    "    :param img: image to process\n",
    "    :param clipLimit: clip_limit parameter (0,1)\n",
    "    :param nb: nbins parameter (0,100)\n",
    "    :param w: weight parameter (0,1)\n",
    "    :param removeSmall: min_size parameter (0,100)\n",
    "    :param conn: connectivity parameter (0,100)\n",
    "    :return: processed image\n",
    "    \"\"\"\n",
    "    result = None\n",
    "    # disable warnings\n",
    "    with war.catch_warnings():\n",
    "        war.simplefilter(\"ignore\")\n",
    "        # Convert image to grey scale\n",
    "        img = rgb2grey(img)\n",
    "        # Equalize histogram\n",
    "        imgAdapted = exposure.equalize_adapthist(img, clip_limit=clipLimit, nbins=nb)\n",
    "        # Reduce noise\n",
    "        imgAdaptedDenoise = denoise_tv_chambolle(imgAdapted, weight=w)\n",
    "        # Apply frangi filter\n",
    "        frangiImg = frangi(imgAdaptedDenoise)\n",
    "        # Calculate image threshold\n",
    "        threshold = threshold_li(frangiImg)\n",
    "        # Apply threshold\n",
    "        thresholdedImg = frangiImg >= threshold\n",
    "        # Skeletonize image\n",
    "        skImg = skeletonize(thresholdedImg)\n",
    "        # Remove small objects (min_size fixed to 70)\n",
    "        result = morphology.remove_small_objects(skImg, min_size=removeSmall, connectivity=conn)\n",
    "    return result"
   ]
  },
  {
   "cell_type": "code",
   "execution_count": 1,
   "metadata": {
    "collapsed": true
   },
   "outputs": [],
   "source": [
    "#Funcion a optimizar. From wiki.\n",
    "def distance(str1, str2):\n",
    "    \"\"\"\n",
    "    Distancia de Levenshtein\n",
    "    \"\"\"\n",
    "    d=dict()\n",
    "    for i in range(len(str1)+1):\n",
    "        d[i]=dict()\n",
    "        d[i][0]=i\n",
    "    for i in range(len(str2)+1):\n",
    "        d[0][i] = i\n",
    "    for i in range(1, len(str1)+1):\n",
    "        for j in range(1, len(str2)+1):\n",
    "            d[i][j] = min(d[i][j-1]+1, d[i-1][j]+1, d[i-1][j-1]+(not str1[i-1] == str2[j-1]))\n",
    "    return d[len(str1)][len(str2)]"
   ]
  },
  {
   "cell_type": "code",
   "execution_count": null,
   "metadata": {
    "collapsed": true
   },
   "outputs": [],
   "source": [
    "#Optimizar\n",
    "from scipy import optimize\n",
    "\n"
   ]
  }
 ],
 "metadata": {
  "kernelspec": {
   "display_name": "Python 3",
   "language": "python",
   "name": "python3"
  },
  "language_info": {
   "codemirror_mode": {
    "name": "ipython",
    "version": 3
   },
   "file_extension": ".py",
   "mimetype": "text/x-python",
   "name": "python",
   "nbconvert_exporter": "python",
   "pygments_lexer": "ipython3",
   "version": "3.5.2"
  }
 },
 "nbformat": 4,
 "nbformat_minor": 2
}
