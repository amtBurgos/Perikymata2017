{
 "cells": [
  {
   "cell_type": "markdown",
   "metadata": {},
   "source": [
    "# Índice de pruebas y desarrollos"
   ]
  },
  {
   "cell_type": "markdown",
   "metadata": {},
   "source": [
    "Pruebas realizadas que han servido para desarrollar la versión final del procesado.\n",
    "\n",
    "A lo largo de cada una se va viendo el resultado de aplicar cada función"
   ]
  },
  {
   "cell_type": "markdown",
   "metadata": {},
   "source": [
    "-  [Primeras aproximaciones para detectar bordes](Pruebas y Desarrollos/Primeras aproximaciones para detectar bordes - Jose Francisco.ipynb):<br>\n",
    "Este es el notebook de introducción al proyecto en el se muestra como se intentaría aplicar el filtro Frangi a la detección de perikymata. Además se ofrece la una forma de valorar como de buena es una propuesta.<br><br>\n",
    "\n",
    "- [Prueba iniciales y evaluacion de la solución propuesta](Pruebas y Desarrollos/Prueba iniciales y evaluacion de la solución propuesta.ipynb):<br>\n",
    "En esta prueba se utilizaron y ajustaron las funciones iniciales para ver cuales serían los pasos para elaborar un filtrado. <br> También se evaluó, con la distancia de Levenstein, como de buena era la solución con Frangi probándolo en una fragmento pequeño y comparándolo con una máscara.<br><br>\n",
    "\n",
    "- [Prueba de mezclar Frangi con Prewitt](Pruebas y Desarrollos/Prueba de mezclar Frangi con Prewitt.ipynb):<br>\n",
    "En esta prueba se hizo una primera aproximación de como podía ser el filtrado. En principio tendría elementos como la ecualización adaptativa del histograma, la reducción de ruido, la esqueletonización.\n",
    "Con todo el procesado, se prueba si usar solo Frangi o Frangi + Prewitt.<br>Esta procesado se sacó de probarlo paso a paso en los siguiente notebooks:<br>\n",
    "[Filtrado Frangi paso a paso](Pruebas y Desarrollos/Primeros Filtrados/Pruebas filtrado basado en Frangi con imagenes grandes.ipynb)<br>\n",
    "[Filtrado Frangi + Prewitt paso a paso](Pruebas y Desarrollos/Primero filtrados/Pruebas filtrado basado en Frangi + Prewitt con imagenes grandes.ipynb)\n",
    "<br><br>\n",
    "\n",
    "- [Optimizacion de la distancia de Levensthein](Pruebas y Desarrollos/Optimizacion de la distancia de Levensthein.ipynb):<br>\n",
    "Como había muchos posibles parámetros se intentó crear una función que los optimizase para tener la menor distancia de Levensthein posible, es decir, que la máscara y la imagen procesada fueran los más parecidas.<br>Esta optimización no pudo llevarse a cabo finalmente además de tener un alto coste en tiempo de computación.<br><br>\n",
    "\n",
    "- [Filtrado Frangi + Prewitt ajustando parámetros y con threshold adaptativo](Pruebas y Desarrollos/Filtrado ajustando parámetros y probando el threshold adaptativo.ipynb):<br>\n",
    "En esta prueba se elaboró un filtrado y se ajustaron muchísimos parámetros para obtener un resultado que si en el que se pueden intuir las perikymata deja pendiente limpiar la imagen. Se probó la la función de threshold adaptativo y se iban obteniendo imágenes esqueletonizadas con muchas líneas. Quizás una persona hubiera sabido interpretarlas pero una máquina no.<br><br>\n",
    "\n",
    "- [Pruebas con filtrado Sobel sobre el diente 2](Pruebas y Desarrollos/ExtractLines/Pruebas con filtrado Sobel sobre el diente 2.ipynb):<br>\n",
    "Se probó un filtro basado en el operador de Sobel, aunque seguíamos teniendo el mismo problema de muchísimas líneas indistinguibles en la imagen.<br><br>\n",
    "\n",
    "- [Prueba de extraccion de lineas - Jose Francisco](Pruebas y Desarrollos/ExtractLines/Prueba de extraccion de lineas - Jose Francisco.ipynb):<br>\n",
    "Este notebook es un prototipo porporcionado para detectar líneas, usando una clase que desarrolló Ismael Tobar y podía aportar una solución a las imágenes con muchísimas líneas indistinguibles que obteníamos con los distintos filtrados.<br><br>\n",
    "\n",
    "- [Prueba de extracción de líneas sobre un recorte de filtrado con Sobel](Pruebas y Desarrollos/ExtractLines/Prueba de extracción de líneas sobre un recorte de filtrado con Sobel.ipynb):<br>\n",
    "Este notebook prueba la extracción de líneas propuesta sobre una imagen del diente 2 que ha sido procesada con el filtrado basado en el operador de Sobel.<br><br>\n",
    "\n",
    "- [Prueba de extraccion de lineas con múltiples parámetros](Pruebas y Desarrollos/ExtractLines/Prueba de extraccion de lineas con múltiples parámetros.ipynb):<br>\n",
    "Aquí se prueba el método de extracción de líneas que elaboró Ismael Tobar. Se obtuvo alguna imagen que parecía marcar mejor las perikymata pero no de manera satisfactoria.<br><br>\n",
    "\n",
    "- [Procesado basado en Kirsch sobre el diente 2](Pruebas y Desarrollos/ExtractLines/Procesado basado en Kirsch sobre el diente 2.ipynb):<br>\n",
    "En la primera parte de este notebook se prueba otra vez el filtrado con Sobel y más tarde se prueba la imagen filtrandola con el operador de Kirsch. Aunque el resultado es similar, con Kirsch tenemos la ventaja de poder usarlo en múltiples direcciones.<br> Al final del notebook se puede observar también la detección de líneas sobre la imagen con Kirsch.<br><br>\n",
    "\n",
    "- [Procesado basado en Kirsch sobre el diente 1](Pruebas y Desarrollos/ExtractLines/Procesado basado en Kirsch sobre el diente 1.ipynb):<br>\n",
    "Se probó el nuevo procesado y detección de líneas basado en Kirsch sobre el diente uno. Los resultados fueron mejores que en otras ocasiones sobre este diente, pero descartó totalmente la idea de desechar un filtrado porque en este diente no fuera satisfactorio.<br><br>\n",
    "\n",
    "- [Demo de filtrado para el cliente](Pruebas y Desarrollos/ExtractLines/Demo de filtrado para el cliente.ipynb):<br>\n",
    "A finales de mayo, se tuvo una reunión con el cliente y, como el filtrado no está aún incluido en la aplicación, se elaboró este notebook para mostrarle como quedaría la detección de perikymata.<br>El notebook usa una clase en Python similar a la utilizada finalmente en la aplicación para el filtrado.\n",
    "\n",
    "\n",
    "\n",
    "\n",
    "\n",
    "\n",
    "\n",
    "\n"
   ]
  }
 ],
 "metadata": {
  "anaconda-cloud": {},
  "kernelspec": {
   "display_name": "Python [default]",
   "language": "python",
   "name": "python3"
  },
  "language_info": {
   "codemirror_mode": {
    "name": "ipython",
    "version": 3
   },
   "file_extension": ".py",
   "mimetype": "text/x-python",
   "name": "python",
   "nbconvert_exporter": "python",
   "pygments_lexer": "ipython3",
   "version": "3.5.2"
  }
 },
 "nbformat": 4,
 "nbformat_minor": 1
}
